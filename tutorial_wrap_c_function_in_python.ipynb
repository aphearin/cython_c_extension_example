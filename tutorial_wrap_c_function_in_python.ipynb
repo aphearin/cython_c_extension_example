{
 "cells": [
  {
   "cell_type": "markdown",
   "metadata": {},
   "source": [
    "# Tutorial: How to wrap a C-Function in Cython\n",
    "\n",
    "This simple tutorial is ment to explain in a simple way how to include a C-function into python using cython.\n",
    "We explain which files are needed, what their format needs to be and which cython syntax to use to include the C-function into python. This Tutorial assumes basic knowledge of C and python and nearly no knowledge of cython.\n",
    "\n",
    "We provide a minimal example finding the closest element to ...\n"
   ]
  },
  {
   "cell_type": "markdown",
   "metadata": {},
   "source": [
    "## Needed Files\n",
    "\n",
    "In order to wrap a C-function into python one needs 5 files:\n",
    "- .h file with the function declaration\n",
    "- .c file containing the C-code\n",
    "- .pxd file containing the function declaration in a python readable way\n",
    "- .pyx file containing the wrapper function calling the C-function\n",
    "- a setup.py file needed to compile the C and cython code"
   ]
  },
  {
   "cell_type": "markdown",
   "metadata": {},
   "source": [
    "## Example\n",
    "\n",
    "We chose a simple example to explain the structure and the content of the files needed. Our example finds the nearest element to a given key. We chose such an example to have a function expecting an array and some integer to emphasize how to pass a python array to a C-function.\n",
    "\n",
    "The example files are named:\n",
    "- minimal_to_wrap.h\n",
    "- minimal_to_wrap.c\n",
    "- cython_declaration_module.pxd\n",
    "- find_closest_element.pyx\n",
    "- setup.py\n"
   ]
  },
  {
   "cell_type": "markdown",
   "metadata": {},
   "source": [
    "### C-header file - minimal_to_wrap.h\n",
    "\n",
    "This is the normal C header file containing the function declaration."
   ]
  },
  {
   "cell_type": "code",
   "execution_count": null,
   "metadata": {
    "collapsed": true
   },
   "outputs": [],
   "source": [
    "//header file with function devlaration\n",
    "\n",
    "int find_closest_element_in_c(double * input_data, int size_of_data, double key);"
   ]
  },
  {
   "cell_type": "markdown",
   "metadata": {},
   "source": [
    "### C-file - minimal_to_wrap.c\n",
    "\n",
    "This is the C-code with the function definition to include in the python code. Our example function finds the closest element to a given key.\n",
    "\n",
    "The function \"find_closest_element_in_c\" takes to arguments; an input array \"input_data\", a array length \"size_of_data\" and a key \"key\". It then returns the index of the closest \"closest\" element to the given key."
   ]
  },
  {
   "cell_type": "code",
   "execution_count": null,
   "metadata": {
    "collapsed": true
   },
   "outputs": [],
   "source": [
    "#include <math.h>\n",
    "\n",
    "//Returns the index of the element of input_data\n",
    "//closest to key\n",
    "int find_closest_element_in_c(double * input_data, int size_of_data, double key)\n",
    "{\n",
    "    if (size_of_data <= 0)\n",
    "        return -1;\n",
    "    //Linearly search through the array to find the closest element\n",
    "    //distance stores the current minimal distance\n",
    "    //closest stores the index\n",
    "    //Sorting the array first would certainly be much faster!\n",
    "    double distance = fabs(input_data[0] - key);\n",
    "    int closest = 0;\n",
    "    for(int i = 0; i < size_of_data; ++i)\n",
    "    {\n",
    "        if (fabs(input_data[i] - key) < distance )\n",
    "        {\n",
    "            closest = i;\n",
    "            distance = fabs(input_data[i] - key);\n",
    "        }\n",
    "    }\n",
    "    return closest;\n",
    "}"
   ]
  },
  {
   "cell_type": "markdown",
   "metadata": {},
   "source": [
    "### .pxd-file - cython_declaration_module.pxd\n",
    "This is the cython declaration of the C-function to include into the python code"
   ]
  },
  {
   "cell_type": "code",
   "execution_count": null,
   "metadata": {
    "collapsed": true
   },
   "outputs": [],
   "source": [
    "\"\"\" Cython declaration of the C extension. \n",
    "\"\"\"\n",
    "\n",
    "cdef extern from \"minimal_to_wrap.h\":\n",
    "\tint find_closest_element_in_c(double * input_data, int size_of_data, double key);"
   ]
  },
  {
   "cell_type": "markdown",
   "metadata": {},
   "source": [
    "### .pyx-file - find_closest_element.pyx\n",
    "\n",
    "This is the actual cython code wrapping around the C-function. "
   ]
  },
  {
   "cell_type": "code",
   "execution_count": null,
   "metadata": {
    "collapsed": true
   },
   "outputs": [],
   "source": [
    "#import numpy as np\n",
    "cimport numpy as c_np \n",
    "\n",
    "cimport cython_declaration_module\n",
    "\n",
    "def find_closest_element_wrapper(c_np.ndarray[c_np.float64_t, ndim=1] input_data, key):\n",
    "    cdef int result\n",
    "    result = cython_declaration_module.find_closest_element_in_c(&input_data[0], len(input_data), key)\n",
    "    return result"
   ]
  },
  {
   "cell_type": "markdown",
   "metadata": {},
   "source": [
    "### setup.py file\n",
    "\n",
    "File needed to compile the C/cython code to create a importable library (.so file) \n",
    "\n",
    "Important: name given to the .pyx file must match the name specified in the Extension section!"
   ]
  },
  {
   "cell_type": "code",
   "execution_count": null,
   "metadata": {
    "collapsed": true
   },
   "outputs": [],
   "source": [
    "import numpy as np\n",
    "from distutils.extension import Extension\n",
    "from distutils.core import setup\n",
    "from Cython.Build import cythonize\n",
    "\n",
    "sources = ['find_closest_element.pyx', 'minimal_to_wrap.c']\n",
    "\n",
    "extension_obj_instance = Extension(name=\"find_closest_element\", sources=sources,\n",
    "    include_dirs=[np.get_include()])\n",
    "\n",
    "setup(name=\"cython_wrapper\",ext_modules = cythonize([extension_obj_instance]))"
   ]
  },
  {
   "cell_type": "code",
   "execution_count": null,
   "metadata": {
    "collapsed": true
   },
   "outputs": [],
   "source": []
  }
 ],
 "metadata": {
  "kernelspec": {
   "display_name": "Python 2",
   "language": "python",
   "name": "python2"
  },
  "language_info": {
   "codemirror_mode": {
    "name": "ipython",
    "version": 2
   },
   "file_extension": ".py",
   "mimetype": "text/x-python",
   "name": "python",
   "nbconvert_exporter": "python",
   "pygments_lexer": "ipython2",
   "version": "2.7.10"
  }
 },
 "nbformat": 4,
 "nbformat_minor": 0
}
