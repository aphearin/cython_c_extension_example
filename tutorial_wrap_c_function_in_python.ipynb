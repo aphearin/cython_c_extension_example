{
 "cells": [
  {
   "cell_type": "markdown",
   "metadata": {},
   "source": [
    "# Tutorial: How to wrap a C-Function in Cython\n",
    "\n",
    "This simple tutorial is ment to explain in a simple way how to include a C-function into python using cython.\n",
    "We explain which files are needed, what their format needs to be and which cython syntax to use to include the C-function into python. This Tutorial assumes basic knowledge of C and python and nearly no knowledge of cython.\n",
    "\n",
    "We provide a minimal example finding the closest element to ...\n"
   ]
  },
  {
   "cell_type": "markdown",
   "metadata": {},
   "source": [
    "## Needed Files\n",
    "\n",
    "In order to wrap a C-function into python one needs 5 files:\n",
    "- .h file with the function declaration\n",
    "- .c file containing the C-code\n",
    "- .pxd file containing the function declaration in a python readable way\n",
    "- .pyx file containing the wrapper function calling the C-function\n",
    "- a setup.py file needed to compile the C and cython code"
   ]
  },
  {
   "cell_type": "markdown",
   "metadata": {},
   "source": [
    "## Example\n",
    "\n",
    "We chose a simple example to explain the structure and the content of the files needed. Our example finds the nearest element to a given key. We chose such an example to have a function expecting an array and some integer to emphasize how to pass a python array to a C-function.\n",
    "\n",
    "The example files are named:\n",
    "- minimal_to_wrap.h\n",
    "- minimal_to_wrap.c\n",
    "- cython_declaration_module.pxd\n",
    "- find_closest_element.pyx\n",
    "- setup.py\n"
   ]
  },
  {
   "cell_type": "markdown",
   "metadata": {},
   "source": [
    "### C-header file - minimal_to_wrap.h\n",
    "\n",
    "This is the normal C header file containing the function declaration."
   ]
  },
  {
   "cell_type": "code",
   "execution_count": null,
   "metadata": {
    "collapsed": true
   },
   "outputs": [],
   "source": [
    "//header file with function devlaration\n",
    "\n",
    "int find_closest_element_in_c(double * input_data, int size_of_data, double key);"
   ]
  },
  {
   "cell_type": "markdown",
   "metadata": {},
   "source": [
    "### C-file - minimal_to_wrap.c\n",
    "\n",
    "This is the C-code with the function definition to include in the python code. Our example function finds the closest element to a given key.\n",
    "\n",
    "The function ``find_closest_element_in_c`` takes to arguments; an input array ``input_data``, a array length ``size_of_data`` and a key ``key``. It then returns the index of the closest \"closest\" element to the given key."
   ]
  },
  {
   "cell_type": "code",
   "execution_count": null,
   "metadata": {
    "collapsed": true
   },
   "outputs": [],
   "source": [
    "#include <math.h>\n",
    "\n",
    "//Returns the index of the element of input_data\n",
    "//closest to key\n",
    "int find_closest_element_in_c(double * input_data, int size_of_data, double key)\n",
    "{\n",
    "    if (size_of_data <= 0)\n",
    "        return -1;\n",
    "    //Linearly search through the array to find the closest element\n",
    "    //distance stores the current minimal distance\n",
    "    //closest stores the index\n",
    "    //Sorting the array first would certainly be much faster!\n",
    "    double distance = fabs(input_data[0] - key);\n",
    "    int closest = 0;\n",
    "    for(int i = 0; i < size_of_data; ++i)\n",
    "    {\n",
    "        if (fabs(input_data[i] - key) < distance )\n",
    "        {\n",
    "            closest = i;\n",
    "            distance = fabs(input_data[i] - key);\n",
    "        }\n",
    "    }\n",
    "    return closest;\n",
    "}"
   ]
  },
  {
   "cell_type": "markdown",
   "metadata": {},
   "source": [
    "### .pxd-file - cython_declaration_module.pxd\n",
    "This is the cython declaration of the C-function to include into the python code\n",
    "\n",
    "The first line is the docstring, then follows the cython definition of the function ``cdef extern from \".h-file\"`` which basically just specifies the external file where to find the C-function definition. \n",
    "The next line then repeats the \"normal\" C-function definition. "
   ]
  },
  {
   "cell_type": "code",
   "execution_count": null,
   "metadata": {
    "collapsed": true
   },
   "outputs": [],
   "source": [
    "\"\"\" Cython declaration of the C extension. \n",
    "\"\"\"\n",
    "\n",
    "cdef extern from \"minimal_to_wrap.h\":\n",
    "\tint find_closest_element_in_c(double * input_data, int size_of_data, double key);"
   ]
  },
  {
   "cell_type": "markdown",
   "metadata": {},
   "source": [
    "### .pyx-file - find_closest_element.pyx\n",
    "\n",
    "This is the actual cython code wrapping around the C-function. \n",
    "\n",
    "Because we want to use cython we need to use ``cimport numpy as c_np`` and ``cimport cython_declaration_module``.\n",
    "\n",
    "We then define our python function ``find_closest_element_wrapper`` which takes two input parameters, an input array ``input_data`` and a ``key``. Again, because we use cython, we need to specify the type of the input array. Here we use a numpy ndarray of type ``float64_t``.\n",
    "\n",
    "Inside our python function we call the C-function via ``cython_declaration_module.find_closest_element_in_c(&input_data[0], len(input_data), key)``\n",
    "where we need to pass the first argument in the manner we would pass arrays in C. This means we pass the pointer to the first element of our array ``&input_data[0]``. The second argument is the length of the array, as demanded by the C definition of the function. The third argument then is just passing the key.\n",
    "\n",
    "As a last step we return the index of the closest element as the result calculated by the C-function.\n"
   ]
  },
  {
   "cell_type": "code",
   "execution_count": null,
   "metadata": {
    "collapsed": true
   },
   "outputs": [],
   "source": [
    "#import numpy as np\n",
    "cimport numpy as c_np \n",
    "\n",
    "cimport cython_declaration_module\n",
    "\n",
    "def find_closest_element_wrapper(c_np.ndarray[c_np.float64_t, ndim=1] input_data, key):\n",
    "    cdef int result\n",
    "    result = cython_declaration_module.find_closest_element_in_c(&input_data[0], len(input_data), key)\n",
    "    return result"
   ]
  },
  {
   "cell_type": "markdown",
   "metadata": {},
   "source": [
    "### setup.py file - find_closest_element.pyx\n",
    "\n",
    "This is the esential file to make the C-function callable from plain python. This file is needed to compile the C/cython code in order to create a importable library (.so file). \n",
    "\n",
    "To make the setup file run, we need to import some essential modules.\n",
    "\n",
    "``import numpy as np``  \n",
    "``from distutils.extension import Extension``\n",
    "`` from distutils.extension import Extension``  \n",
    "``from distutils.core import setup``  \n",
    "``from Cython.Build import cythonize``\n",
    "\n",
    "We then define the source files:\n",
    "``sources = ['find_closest_element.pyx', 'minimal_to_wrap.c']``\n",
    "\n",
    "!!! Important: The name given to the .pyx file must match the name specified in the Extension section!\n",
    "\n",
    "The next line  \n",
    "``extension_obj_instance = Extension(name=\"find_closest_element\", sources=sources, include_dirs=[np.get_include()])``\n",
    "builds the extension object (note the use of the include_dirs keyword argument - necessary whenever our cython wrapper requires a cimport of numpy)\n",
    "\n",
    "Finally we define what to do when setup.py is called.\n",
    "``setup(name=\"cython_wrapper\",ext_modules = cythonize([extension_obj_instance]))``\n"
   ]
  },
  {
   "cell_type": "code",
   "execution_count": null,
   "metadata": {
    "collapsed": true
   },
   "outputs": [],
   "source": [
    "import numpy as np\n",
    "from distutils.extension import Extension\n",
    "from distutils.core import setup\n",
    "from Cython.Build import cythonize\n",
    "\n",
    "sources = ['find_closest_element.pyx', 'minimal_to_wrap.c']\n",
    "\n",
    "extension_obj_instance = Extension(name=\"find_closest_element\", sources=sources,\n",
    "    include_dirs=[np.get_include()])\n",
    "\n",
    "setup(name=\"cython_wrapper\",ext_modules = cythonize([extension_obj_instance]))"
   ]
  },
  {
   "cell_type": "markdown",
   "metadata": {},
   "source": [
    "### Inclusion into python\n",
    "\n",
    "short example program for importing and calling the newly defined C-function"
   ]
  },
  {
   "cell_type": "code",
   "execution_count": 12,
   "metadata": {
    "collapsed": false
   },
   "outputs": [
    {
     "name": "stdout",
     "output_type": "stream",
     "text": [
      "34.7337614986\n"
     ]
    }
   ],
   "source": [
    "import os\n",
    "os.system(\"python setup.py build_ext --inplace\")\n",
    "\n",
    "import numpy as np\n",
    "from find_closest_element import find_closest_element_wrapper\n",
    "\n",
    "data = np.random.rand(1000)*1000\n",
    "key = 34\n",
    "\n",
    "result = find_closest_element_wrapper(data, key)\n",
    "print data[result]"
   ]
  },
  {
   "cell_type": "code",
   "execution_count": null,
   "metadata": {
    "collapsed": true
   },
   "outputs": [],
   "source": []
  },
  {
   "cell_type": "code",
   "execution_count": null,
   "metadata": {
    "collapsed": true
   },
   "outputs": [],
   "source": []
  }
 ],
 "metadata": {
  "kernelspec": {
   "display_name": "Python 2",
   "language": "python",
   "name": "python2"
  },
  "language_info": {
   "codemirror_mode": {
    "name": "ipython",
    "version": 2
   },
   "file_extension": ".py",
   "mimetype": "text/x-python",
   "name": "python",
   "nbconvert_exporter": "python",
   "pygments_lexer": "ipython2",
   "version": "2.7.10"
  }
 },
 "nbformat": 4,
 "nbformat_minor": 0
}
